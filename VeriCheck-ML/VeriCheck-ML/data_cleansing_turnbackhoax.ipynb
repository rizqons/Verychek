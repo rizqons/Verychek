{
  "nbformat": 4,
  "nbformat_minor": 0,
  "metadata": {
    "colab": {
      "provenance": []
    },
    "kernelspec": {
      "name": "python3",
      "display_name": "Python 3"
    },
    "language_info": {
      "name": "python"
    }
  },
  "cells": [
    {
      "cell_type": "code",
      "execution_count": 1,
      "metadata": {
        "id": "aPIRMvVyNX24"
      },
      "outputs": [],
      "source": [
        "import pandas as pd\n",
        "import re"
      ]
    },
    {
      "cell_type": "markdown",
      "source": [
        "# **Importing Datasets**"
      ],
      "metadata": {
        "id": "x-8ztNByTMC9"
      }
    },
    {
      "cell_type": "code",
      "source": [
        "df = pd.read_csv('data_turnbachoax_dirty.csv')"
      ],
      "metadata": {
        "id": "7pvjhaQqTJR9"
      },
      "execution_count": 2,
      "outputs": []
    },
    {
      "cell_type": "code",
      "source": [
        "df.head()"
      ],
      "metadata": {
        "colab": {
          "base_uri": "https://localhost:8080/",
          "height": 293
        },
        "id": "esXuIJykTa1f",
        "outputId": "130985db-93fc-4933-e415-208bdfe48875"
      },
      "execution_count": 3,
      "outputs": [
        {
          "output_type": "execute_result",
          "data": {
            "text/plain": [
              "                                            headline               time  \\\n",
              "0  [SALAH] Konvoi Bantuan Palestina Dirampas oleh...  November 25, 2023   \n",
              "1  [SALAH] Video Polisi Israel Mencekik Anak Pale...  November 23, 2023   \n",
              "2  [SALAH] Video Tentara Israel Memasang Bendera ...  November 23, 2023   \n",
              "3  [SALAH] Perusahaan Israel Pepsi Ubah Kemasan B...  November 23, 2023   \n",
              "4  [SALAH] Cristiano Ronaldo Lempar Mic Wartawan ...  November 22, 2023   \n",
              "\n",
              "                                             content  \\\n",
              "0  Hasil periksa fakta Vendra PanjiDalam video as...   \n",
              "1  Hasil periksa fakta Moch. MarcellodiansyahFakt...   \n",
              "2  Hasil periksa fakta Evarizma Zahra. Konten yan...   \n",
              "3  Hasil periksa fakta Moch. MarcellodiansyahFakt...   \n",
              "4  Hasil periksa fakta Vendra PanjiCR7 melempar m...   \n",
              "\n",
              "                                                link  hoax  \n",
              "0  https://turnbackhoax.id/2023/11/25/salah-konvo...     1  \n",
              "1  https://turnbackhoax.id/2023/11/23/salah-video...     1  \n",
              "2  https://turnbackhoax.id/2023/11/23/salah-video...     1  \n",
              "3  https://turnbackhoax.id/2023/11/23/salah-perus...     1  \n",
              "4  https://turnbackhoax.id/2023/11/22/salah-crist...     1  "
            ],
            "text/html": [
              "\n",
              "  <div id=\"df-d93ba26f-a066-4b15-94ec-620565118e67\" class=\"colab-df-container\">\n",
              "    <div>\n",
              "<style scoped>\n",
              "    .dataframe tbody tr th:only-of-type {\n",
              "        vertical-align: middle;\n",
              "    }\n",
              "\n",
              "    .dataframe tbody tr th {\n",
              "        vertical-align: top;\n",
              "    }\n",
              "\n",
              "    .dataframe thead th {\n",
              "        text-align: right;\n",
              "    }\n",
              "</style>\n",
              "<table border=\"1\" class=\"dataframe\">\n",
              "  <thead>\n",
              "    <tr style=\"text-align: right;\">\n",
              "      <th></th>\n",
              "      <th>headline</th>\n",
              "      <th>time</th>\n",
              "      <th>content</th>\n",
              "      <th>link</th>\n",
              "      <th>hoax</th>\n",
              "    </tr>\n",
              "  </thead>\n",
              "  <tbody>\n",
              "    <tr>\n",
              "      <th>0</th>\n",
              "      <td>[SALAH] Konvoi Bantuan Palestina Dirampas oleh...</td>\n",
              "      <td>November 25, 2023</td>\n",
              "      <td>Hasil periksa fakta Vendra PanjiDalam video as...</td>\n",
              "      <td>https://turnbackhoax.id/2023/11/25/salah-konvo...</td>\n",
              "      <td>1</td>\n",
              "    </tr>\n",
              "    <tr>\n",
              "      <th>1</th>\n",
              "      <td>[SALAH] Video Polisi Israel Mencekik Anak Pale...</td>\n",
              "      <td>November 23, 2023</td>\n",
              "      <td>Hasil periksa fakta Moch. MarcellodiansyahFakt...</td>\n",
              "      <td>https://turnbackhoax.id/2023/11/23/salah-video...</td>\n",
              "      <td>1</td>\n",
              "    </tr>\n",
              "    <tr>\n",
              "      <th>2</th>\n",
              "      <td>[SALAH] Video Tentara Israel Memasang Bendera ...</td>\n",
              "      <td>November 23, 2023</td>\n",
              "      <td>Hasil periksa fakta Evarizma Zahra. Konten yan...</td>\n",
              "      <td>https://turnbackhoax.id/2023/11/23/salah-video...</td>\n",
              "      <td>1</td>\n",
              "    </tr>\n",
              "    <tr>\n",
              "      <th>3</th>\n",
              "      <td>[SALAH] Perusahaan Israel Pepsi Ubah Kemasan B...</td>\n",
              "      <td>November 23, 2023</td>\n",
              "      <td>Hasil periksa fakta Moch. MarcellodiansyahFakt...</td>\n",
              "      <td>https://turnbackhoax.id/2023/11/23/salah-perus...</td>\n",
              "      <td>1</td>\n",
              "    </tr>\n",
              "    <tr>\n",
              "      <th>4</th>\n",
              "      <td>[SALAH] Cristiano Ronaldo Lempar Mic Wartawan ...</td>\n",
              "      <td>November 22, 2023</td>\n",
              "      <td>Hasil periksa fakta Vendra PanjiCR7 melempar m...</td>\n",
              "      <td>https://turnbackhoax.id/2023/11/22/salah-crist...</td>\n",
              "      <td>1</td>\n",
              "    </tr>\n",
              "  </tbody>\n",
              "</table>\n",
              "</div>\n",
              "    <div class=\"colab-df-buttons\">\n",
              "\n",
              "  <div class=\"colab-df-container\">\n",
              "    <button class=\"colab-df-convert\" onclick=\"convertToInteractive('df-d93ba26f-a066-4b15-94ec-620565118e67')\"\n",
              "            title=\"Convert this dataframe to an interactive table.\"\n",
              "            style=\"display:none;\">\n",
              "\n",
              "  <svg xmlns=\"http://www.w3.org/2000/svg\" height=\"24px\" viewBox=\"0 -960 960 960\">\n",
              "    <path d=\"M120-120v-720h720v720H120Zm60-500h600v-160H180v160Zm220 220h160v-160H400v160Zm0 220h160v-160H400v160ZM180-400h160v-160H180v160Zm440 0h160v-160H620v160ZM180-180h160v-160H180v160Zm440 0h160v-160H620v160Z\"/>\n",
              "  </svg>\n",
              "    </button>\n",
              "\n",
              "  <style>\n",
              "    .colab-df-container {\n",
              "      display:flex;\n",
              "      gap: 12px;\n",
              "    }\n",
              "\n",
              "    .colab-df-convert {\n",
              "      background-color: #E8F0FE;\n",
              "      border: none;\n",
              "      border-radius: 50%;\n",
              "      cursor: pointer;\n",
              "      display: none;\n",
              "      fill: #1967D2;\n",
              "      height: 32px;\n",
              "      padding: 0 0 0 0;\n",
              "      width: 32px;\n",
              "    }\n",
              "\n",
              "    .colab-df-convert:hover {\n",
              "      background-color: #E2EBFA;\n",
              "      box-shadow: 0px 1px 2px rgba(60, 64, 67, 0.3), 0px 1px 3px 1px rgba(60, 64, 67, 0.15);\n",
              "      fill: #174EA6;\n",
              "    }\n",
              "\n",
              "    .colab-df-buttons div {\n",
              "      margin-bottom: 4px;\n",
              "    }\n",
              "\n",
              "    [theme=dark] .colab-df-convert {\n",
              "      background-color: #3B4455;\n",
              "      fill: #D2E3FC;\n",
              "    }\n",
              "\n",
              "    [theme=dark] .colab-df-convert:hover {\n",
              "      background-color: #434B5C;\n",
              "      box-shadow: 0px 1px 3px 1px rgba(0, 0, 0, 0.15);\n",
              "      filter: drop-shadow(0px 1px 2px rgba(0, 0, 0, 0.3));\n",
              "      fill: #FFFFFF;\n",
              "    }\n",
              "  </style>\n",
              "\n",
              "    <script>\n",
              "      const buttonEl =\n",
              "        document.querySelector('#df-d93ba26f-a066-4b15-94ec-620565118e67 button.colab-df-convert');\n",
              "      buttonEl.style.display =\n",
              "        google.colab.kernel.accessAllowed ? 'block' : 'none';\n",
              "\n",
              "      async function convertToInteractive(key) {\n",
              "        const element = document.querySelector('#df-d93ba26f-a066-4b15-94ec-620565118e67');\n",
              "        const dataTable =\n",
              "          await google.colab.kernel.invokeFunction('convertToInteractive',\n",
              "                                                    [key], {});\n",
              "        if (!dataTable) return;\n",
              "\n",
              "        const docLinkHtml = 'Like what you see? Visit the ' +\n",
              "          '<a target=\"_blank\" href=https://colab.research.google.com/notebooks/data_table.ipynb>data table notebook</a>'\n",
              "          + ' to learn more about interactive tables.';\n",
              "        element.innerHTML = '';\n",
              "        dataTable['output_type'] = 'display_data';\n",
              "        await google.colab.output.renderOutput(dataTable, element);\n",
              "        const docLink = document.createElement('div');\n",
              "        docLink.innerHTML = docLinkHtml;\n",
              "        element.appendChild(docLink);\n",
              "      }\n",
              "    </script>\n",
              "  </div>\n",
              "\n",
              "\n",
              "<div id=\"df-32b60582-993f-486e-b3f8-3dd74889e4ae\">\n",
              "  <button class=\"colab-df-quickchart\" onclick=\"quickchart('df-32b60582-993f-486e-b3f8-3dd74889e4ae')\"\n",
              "            title=\"Suggest charts\"\n",
              "            style=\"display:none;\">\n",
              "\n",
              "<svg xmlns=\"http://www.w3.org/2000/svg\" height=\"24px\"viewBox=\"0 0 24 24\"\n",
              "     width=\"24px\">\n",
              "    <g>\n",
              "        <path d=\"M19 3H5c-1.1 0-2 .9-2 2v14c0 1.1.9 2 2 2h14c1.1 0 2-.9 2-2V5c0-1.1-.9-2-2-2zM9 17H7v-7h2v7zm4 0h-2V7h2v10zm4 0h-2v-4h2v4z\"/>\n",
              "    </g>\n",
              "</svg>\n",
              "  </button>\n",
              "\n",
              "<style>\n",
              "  .colab-df-quickchart {\n",
              "      --bg-color: #E8F0FE;\n",
              "      --fill-color: #1967D2;\n",
              "      --hover-bg-color: #E2EBFA;\n",
              "      --hover-fill-color: #174EA6;\n",
              "      --disabled-fill-color: #AAA;\n",
              "      --disabled-bg-color: #DDD;\n",
              "  }\n",
              "\n",
              "  [theme=dark] .colab-df-quickchart {\n",
              "      --bg-color: #3B4455;\n",
              "      --fill-color: #D2E3FC;\n",
              "      --hover-bg-color: #434B5C;\n",
              "      --hover-fill-color: #FFFFFF;\n",
              "      --disabled-bg-color: #3B4455;\n",
              "      --disabled-fill-color: #666;\n",
              "  }\n",
              "\n",
              "  .colab-df-quickchart {\n",
              "    background-color: var(--bg-color);\n",
              "    border: none;\n",
              "    border-radius: 50%;\n",
              "    cursor: pointer;\n",
              "    display: none;\n",
              "    fill: var(--fill-color);\n",
              "    height: 32px;\n",
              "    padding: 0;\n",
              "    width: 32px;\n",
              "  }\n",
              "\n",
              "  .colab-df-quickchart:hover {\n",
              "    background-color: var(--hover-bg-color);\n",
              "    box-shadow: 0 1px 2px rgba(60, 64, 67, 0.3), 0 1px 3px 1px rgba(60, 64, 67, 0.15);\n",
              "    fill: var(--button-hover-fill-color);\n",
              "  }\n",
              "\n",
              "  .colab-df-quickchart-complete:disabled,\n",
              "  .colab-df-quickchart-complete:disabled:hover {\n",
              "    background-color: var(--disabled-bg-color);\n",
              "    fill: var(--disabled-fill-color);\n",
              "    box-shadow: none;\n",
              "  }\n",
              "\n",
              "  .colab-df-spinner {\n",
              "    border: 2px solid var(--fill-color);\n",
              "    border-color: transparent;\n",
              "    border-bottom-color: var(--fill-color);\n",
              "    animation:\n",
              "      spin 1s steps(1) infinite;\n",
              "  }\n",
              "\n",
              "  @keyframes spin {\n",
              "    0% {\n",
              "      border-color: transparent;\n",
              "      border-bottom-color: var(--fill-color);\n",
              "      border-left-color: var(--fill-color);\n",
              "    }\n",
              "    20% {\n",
              "      border-color: transparent;\n",
              "      border-left-color: var(--fill-color);\n",
              "      border-top-color: var(--fill-color);\n",
              "    }\n",
              "    30% {\n",
              "      border-color: transparent;\n",
              "      border-left-color: var(--fill-color);\n",
              "      border-top-color: var(--fill-color);\n",
              "      border-right-color: var(--fill-color);\n",
              "    }\n",
              "    40% {\n",
              "      border-color: transparent;\n",
              "      border-right-color: var(--fill-color);\n",
              "      border-top-color: var(--fill-color);\n",
              "    }\n",
              "    60% {\n",
              "      border-color: transparent;\n",
              "      border-right-color: var(--fill-color);\n",
              "    }\n",
              "    80% {\n",
              "      border-color: transparent;\n",
              "      border-right-color: var(--fill-color);\n",
              "      border-bottom-color: var(--fill-color);\n",
              "    }\n",
              "    90% {\n",
              "      border-color: transparent;\n",
              "      border-bottom-color: var(--fill-color);\n",
              "    }\n",
              "  }\n",
              "</style>\n",
              "\n",
              "  <script>\n",
              "    async function quickchart(key) {\n",
              "      const quickchartButtonEl =\n",
              "        document.querySelector('#' + key + ' button');\n",
              "      quickchartButtonEl.disabled = true;  // To prevent multiple clicks.\n",
              "      quickchartButtonEl.classList.add('colab-df-spinner');\n",
              "      try {\n",
              "        const charts = await google.colab.kernel.invokeFunction(\n",
              "            'suggestCharts', [key], {});\n",
              "      } catch (error) {\n",
              "        console.error('Error during call to suggestCharts:', error);\n",
              "      }\n",
              "      quickchartButtonEl.classList.remove('colab-df-spinner');\n",
              "      quickchartButtonEl.classList.add('colab-df-quickchart-complete');\n",
              "    }\n",
              "    (() => {\n",
              "      let quickchartButtonEl =\n",
              "        document.querySelector('#df-32b60582-993f-486e-b3f8-3dd74889e4ae button');\n",
              "      quickchartButtonEl.style.display =\n",
              "        google.colab.kernel.accessAllowed ? 'block' : 'none';\n",
              "    })();\n",
              "  </script>\n",
              "</div>\n",
              "    </div>\n",
              "  </div>\n"
            ]
          },
          "metadata": {},
          "execution_count": 3
        }
      ]
    },
    {
      "cell_type": "markdown",
      "source": [
        "**Finding Missing Value**"
      ],
      "metadata": {
        "id": "1tohNNWmUcrj"
      }
    },
    {
      "cell_type": "code",
      "source": [
        "df.isna().sum()"
      ],
      "metadata": {
        "colab": {
          "base_uri": "https://localhost:8080/"
        },
        "id": "3iXAEWaqTeUW",
        "outputId": "5db64259-69c8-4152-9fe7-1266c8f06227"
      },
      "execution_count": 4,
      "outputs": [
        {
          "output_type": "execute_result",
          "data": {
            "text/plain": [
              "headline    0\n",
              "time        0\n",
              "content     0\n",
              "link        0\n",
              "hoax        0\n",
              "dtype: int64"
            ]
          },
          "metadata": {},
          "execution_count": 4
        }
      ]
    },
    {
      "cell_type": "markdown",
      "source": [
        "**Implementasi Regex untuk membersihkan data yang diapit oleh kurung siku**"
      ],
      "metadata": {
        "id": "sFlv9AQ9Wsn0"
      }
    },
    {
      "cell_type": "code",
      "source": [
        "df['headline'] = df['headline'].str.replace(r'\\[.*?\\]|\\(.*?\\)', '', regex=True)"
      ],
      "metadata": {
        "id": "uaN1HvKFTrsg"
      },
      "execution_count": 5,
      "outputs": []
    },
    {
      "cell_type": "markdown",
      "source": [
        "**Removing space at the begining and the end of sentencec**"
      ],
      "metadata": {
        "id": "bDBOz5M6qa9O"
      }
    },
    {
      "cell_type": "code",
      "source": [
        "headline_strip = df['headline']\n",
        "list_new_headline = []\n",
        "print(len(headline_strip))\n",
        "for i in headline_strip:\n",
        "  list_new_headline.append(i.strip())\n",
        "print(len(list_new_headline))"
      ],
      "metadata": {
        "colab": {
          "base_uri": "https://localhost:8080/"
        },
        "id": "4xrIszsBX3vY",
        "outputId": "2d8f4f4c-3d74-457e-8bda-721d194e49c8"
      },
      "execution_count": 6,
      "outputs": [
        {
          "output_type": "stream",
          "name": "stdout",
          "text": [
            "322\n",
            "322\n"
          ]
        }
      ]
    },
    {
      "cell_type": "code",
      "source": [
        "df['headline'] = list_new_headline"
      ],
      "metadata": {
        "id": "6GsuHQkRW75j"
      },
      "execution_count": 7,
      "outputs": []
    },
    {
      "cell_type": "code",
      "source": [
        "df[['headline']]"
      ],
      "metadata": {
        "id": "mirNxarLYsWz",
        "colab": {
          "base_uri": "https://localhost:8080/",
          "height": 423
        },
        "outputId": "63b15af3-dd80-490c-ef48-b3f156fe3d85"
      },
      "execution_count": 8,
      "outputs": [
        {
          "output_type": "execute_result",
          "data": {
            "text/plain": [
              "                                              headline\n",
              "0        Konvoi Bantuan Palestina Dirampas oleh Israel\n",
              "1    Video Polisi Israel Mencekik Anak Palestina di...\n",
              "2    Video Tentara Israel Memasang Bendera Israel d...\n",
              "3    Perusahaan Israel Pepsi Ubah Kemasan Bertulisa...\n",
              "4    Cristiano Ronaldo Lempar Mic Wartawan Israel k...\n",
              "..                                                 ...\n",
              "317  Menteri Agama Yaqut Cholil Berasal dari Kelomp...\n",
              "318  Tulisan Ridwan Kamil : “NIAT BUSUK KUBU SEBELA...\n",
              "319  Video “BERITA TERBARU ~ RONALDO SUMBANGKAN GAJ...\n",
              "320         Video “Kapal oleng di pelabuhan padangbae”\n",
              "321  “Guys! Tolong Jangan Beli Cokelat Snickers” | ...\n",
              "\n",
              "[322 rows x 1 columns]"
            ],
            "text/html": [
              "\n",
              "  <div id=\"df-2f53d138-668c-4596-9aec-93c3b07146d3\" class=\"colab-df-container\">\n",
              "    <div>\n",
              "<style scoped>\n",
              "    .dataframe tbody tr th:only-of-type {\n",
              "        vertical-align: middle;\n",
              "    }\n",
              "\n",
              "    .dataframe tbody tr th {\n",
              "        vertical-align: top;\n",
              "    }\n",
              "\n",
              "    .dataframe thead th {\n",
              "        text-align: right;\n",
              "    }\n",
              "</style>\n",
              "<table border=\"1\" class=\"dataframe\">\n",
              "  <thead>\n",
              "    <tr style=\"text-align: right;\">\n",
              "      <th></th>\n",
              "      <th>headline</th>\n",
              "    </tr>\n",
              "  </thead>\n",
              "  <tbody>\n",
              "    <tr>\n",
              "      <th>0</th>\n",
              "      <td>Konvoi Bantuan Palestina Dirampas oleh Israel</td>\n",
              "    </tr>\n",
              "    <tr>\n",
              "      <th>1</th>\n",
              "      <td>Video Polisi Israel Mencekik Anak Palestina di...</td>\n",
              "    </tr>\n",
              "    <tr>\n",
              "      <th>2</th>\n",
              "      <td>Video Tentara Israel Memasang Bendera Israel d...</td>\n",
              "    </tr>\n",
              "    <tr>\n",
              "      <th>3</th>\n",
              "      <td>Perusahaan Israel Pepsi Ubah Kemasan Bertulisa...</td>\n",
              "    </tr>\n",
              "    <tr>\n",
              "      <th>4</th>\n",
              "      <td>Cristiano Ronaldo Lempar Mic Wartawan Israel k...</td>\n",
              "    </tr>\n",
              "    <tr>\n",
              "      <th>...</th>\n",
              "      <td>...</td>\n",
              "    </tr>\n",
              "    <tr>\n",
              "      <th>317</th>\n",
              "      <td>Menteri Agama Yaqut Cholil Berasal dari Kelomp...</td>\n",
              "    </tr>\n",
              "    <tr>\n",
              "      <th>318</th>\n",
              "      <td>Tulisan Ridwan Kamil : “NIAT BUSUK KUBU SEBELA...</td>\n",
              "    </tr>\n",
              "    <tr>\n",
              "      <th>319</th>\n",
              "      <td>Video “BERITA TERBARU ~ RONALDO SUMBANGKAN GAJ...</td>\n",
              "    </tr>\n",
              "    <tr>\n",
              "      <th>320</th>\n",
              "      <td>Video “Kapal oleng di pelabuhan padangbae”</td>\n",
              "    </tr>\n",
              "    <tr>\n",
              "      <th>321</th>\n",
              "      <td>“Guys! Tolong Jangan Beli Cokelat Snickers” | ...</td>\n",
              "    </tr>\n",
              "  </tbody>\n",
              "</table>\n",
              "<p>322 rows × 1 columns</p>\n",
              "</div>\n",
              "    <div class=\"colab-df-buttons\">\n",
              "\n",
              "  <div class=\"colab-df-container\">\n",
              "    <button class=\"colab-df-convert\" onclick=\"convertToInteractive('df-2f53d138-668c-4596-9aec-93c3b07146d3')\"\n",
              "            title=\"Convert this dataframe to an interactive table.\"\n",
              "            style=\"display:none;\">\n",
              "\n",
              "  <svg xmlns=\"http://www.w3.org/2000/svg\" height=\"24px\" viewBox=\"0 -960 960 960\">\n",
              "    <path d=\"M120-120v-720h720v720H120Zm60-500h600v-160H180v160Zm220 220h160v-160H400v160Zm0 220h160v-160H400v160ZM180-400h160v-160H180v160Zm440 0h160v-160H620v160ZM180-180h160v-160H180v160Zm440 0h160v-160H620v160Z\"/>\n",
              "  </svg>\n",
              "    </button>\n",
              "\n",
              "  <style>\n",
              "    .colab-df-container {\n",
              "      display:flex;\n",
              "      gap: 12px;\n",
              "    }\n",
              "\n",
              "    .colab-df-convert {\n",
              "      background-color: #E8F0FE;\n",
              "      border: none;\n",
              "      border-radius: 50%;\n",
              "      cursor: pointer;\n",
              "      display: none;\n",
              "      fill: #1967D2;\n",
              "      height: 32px;\n",
              "      padding: 0 0 0 0;\n",
              "      width: 32px;\n",
              "    }\n",
              "\n",
              "    .colab-df-convert:hover {\n",
              "      background-color: #E2EBFA;\n",
              "      box-shadow: 0px 1px 2px rgba(60, 64, 67, 0.3), 0px 1px 3px 1px rgba(60, 64, 67, 0.15);\n",
              "      fill: #174EA6;\n",
              "    }\n",
              "\n",
              "    .colab-df-buttons div {\n",
              "      margin-bottom: 4px;\n",
              "    }\n",
              "\n",
              "    [theme=dark] .colab-df-convert {\n",
              "      background-color: #3B4455;\n",
              "      fill: #D2E3FC;\n",
              "    }\n",
              "\n",
              "    [theme=dark] .colab-df-convert:hover {\n",
              "      background-color: #434B5C;\n",
              "      box-shadow: 0px 1px 3px 1px rgba(0, 0, 0, 0.15);\n",
              "      filter: drop-shadow(0px 1px 2px rgba(0, 0, 0, 0.3));\n",
              "      fill: #FFFFFF;\n",
              "    }\n",
              "  </style>\n",
              "\n",
              "    <script>\n",
              "      const buttonEl =\n",
              "        document.querySelector('#df-2f53d138-668c-4596-9aec-93c3b07146d3 button.colab-df-convert');\n",
              "      buttonEl.style.display =\n",
              "        google.colab.kernel.accessAllowed ? 'block' : 'none';\n",
              "\n",
              "      async function convertToInteractive(key) {\n",
              "        const element = document.querySelector('#df-2f53d138-668c-4596-9aec-93c3b07146d3');\n",
              "        const dataTable =\n",
              "          await google.colab.kernel.invokeFunction('convertToInteractive',\n",
              "                                                    [key], {});\n",
              "        if (!dataTable) return;\n",
              "\n",
              "        const docLinkHtml = 'Like what you see? Visit the ' +\n",
              "          '<a target=\"_blank\" href=https://colab.research.google.com/notebooks/data_table.ipynb>data table notebook</a>'\n",
              "          + ' to learn more about interactive tables.';\n",
              "        element.innerHTML = '';\n",
              "        dataTable['output_type'] = 'display_data';\n",
              "        await google.colab.output.renderOutput(dataTable, element);\n",
              "        const docLink = document.createElement('div');\n",
              "        docLink.innerHTML = docLinkHtml;\n",
              "        element.appendChild(docLink);\n",
              "      }\n",
              "    </script>\n",
              "  </div>\n",
              "\n",
              "\n",
              "<div id=\"df-e4a53896-6f76-4ffa-b624-68acfc889ea3\">\n",
              "  <button class=\"colab-df-quickchart\" onclick=\"quickchart('df-e4a53896-6f76-4ffa-b624-68acfc889ea3')\"\n",
              "            title=\"Suggest charts\"\n",
              "            style=\"display:none;\">\n",
              "\n",
              "<svg xmlns=\"http://www.w3.org/2000/svg\" height=\"24px\"viewBox=\"0 0 24 24\"\n",
              "     width=\"24px\">\n",
              "    <g>\n",
              "        <path d=\"M19 3H5c-1.1 0-2 .9-2 2v14c0 1.1.9 2 2 2h14c1.1 0 2-.9 2-2V5c0-1.1-.9-2-2-2zM9 17H7v-7h2v7zm4 0h-2V7h2v10zm4 0h-2v-4h2v4z\"/>\n",
              "    </g>\n",
              "</svg>\n",
              "  </button>\n",
              "\n",
              "<style>\n",
              "  .colab-df-quickchart {\n",
              "      --bg-color: #E8F0FE;\n",
              "      --fill-color: #1967D2;\n",
              "      --hover-bg-color: #E2EBFA;\n",
              "      --hover-fill-color: #174EA6;\n",
              "      --disabled-fill-color: #AAA;\n",
              "      --disabled-bg-color: #DDD;\n",
              "  }\n",
              "\n",
              "  [theme=dark] .colab-df-quickchart {\n",
              "      --bg-color: #3B4455;\n",
              "      --fill-color: #D2E3FC;\n",
              "      --hover-bg-color: #434B5C;\n",
              "      --hover-fill-color: #FFFFFF;\n",
              "      --disabled-bg-color: #3B4455;\n",
              "      --disabled-fill-color: #666;\n",
              "  }\n",
              "\n",
              "  .colab-df-quickchart {\n",
              "    background-color: var(--bg-color);\n",
              "    border: none;\n",
              "    border-radius: 50%;\n",
              "    cursor: pointer;\n",
              "    display: none;\n",
              "    fill: var(--fill-color);\n",
              "    height: 32px;\n",
              "    padding: 0;\n",
              "    width: 32px;\n",
              "  }\n",
              "\n",
              "  .colab-df-quickchart:hover {\n",
              "    background-color: var(--hover-bg-color);\n",
              "    box-shadow: 0 1px 2px rgba(60, 64, 67, 0.3), 0 1px 3px 1px rgba(60, 64, 67, 0.15);\n",
              "    fill: var(--button-hover-fill-color);\n",
              "  }\n",
              "\n",
              "  .colab-df-quickchart-complete:disabled,\n",
              "  .colab-df-quickchart-complete:disabled:hover {\n",
              "    background-color: var(--disabled-bg-color);\n",
              "    fill: var(--disabled-fill-color);\n",
              "    box-shadow: none;\n",
              "  }\n",
              "\n",
              "  .colab-df-spinner {\n",
              "    border: 2px solid var(--fill-color);\n",
              "    border-color: transparent;\n",
              "    border-bottom-color: var(--fill-color);\n",
              "    animation:\n",
              "      spin 1s steps(1) infinite;\n",
              "  }\n",
              "\n",
              "  @keyframes spin {\n",
              "    0% {\n",
              "      border-color: transparent;\n",
              "      border-bottom-color: var(--fill-color);\n",
              "      border-left-color: var(--fill-color);\n",
              "    }\n",
              "    20% {\n",
              "      border-color: transparent;\n",
              "      border-left-color: var(--fill-color);\n",
              "      border-top-color: var(--fill-color);\n",
              "    }\n",
              "    30% {\n",
              "      border-color: transparent;\n",
              "      border-left-color: var(--fill-color);\n",
              "      border-top-color: var(--fill-color);\n",
              "      border-right-color: var(--fill-color);\n",
              "    }\n",
              "    40% {\n",
              "      border-color: transparent;\n",
              "      border-right-color: var(--fill-color);\n",
              "      border-top-color: var(--fill-color);\n",
              "    }\n",
              "    60% {\n",
              "      border-color: transparent;\n",
              "      border-right-color: var(--fill-color);\n",
              "    }\n",
              "    80% {\n",
              "      border-color: transparent;\n",
              "      border-right-color: var(--fill-color);\n",
              "      border-bottom-color: var(--fill-color);\n",
              "    }\n",
              "    90% {\n",
              "      border-color: transparent;\n",
              "      border-bottom-color: var(--fill-color);\n",
              "    }\n",
              "  }\n",
              "</style>\n",
              "\n",
              "  <script>\n",
              "    async function quickchart(key) {\n",
              "      const quickchartButtonEl =\n",
              "        document.querySelector('#' + key + ' button');\n",
              "      quickchartButtonEl.disabled = true;  // To prevent multiple clicks.\n",
              "      quickchartButtonEl.classList.add('colab-df-spinner');\n",
              "      try {\n",
              "        const charts = await google.colab.kernel.invokeFunction(\n",
              "            'suggestCharts', [key], {});\n",
              "      } catch (error) {\n",
              "        console.error('Error during call to suggestCharts:', error);\n",
              "      }\n",
              "      quickchartButtonEl.classList.remove('colab-df-spinner');\n",
              "      quickchartButtonEl.classList.add('colab-df-quickchart-complete');\n",
              "    }\n",
              "    (() => {\n",
              "      let quickchartButtonEl =\n",
              "        document.querySelector('#df-e4a53896-6f76-4ffa-b624-68acfc889ea3 button');\n",
              "      quickchartButtonEl.style.display =\n",
              "        google.colab.kernel.accessAllowed ? 'block' : 'none';\n",
              "    })();\n",
              "  </script>\n",
              "</div>\n",
              "    </div>\n",
              "  </div>\n"
            ]
          },
          "metadata": {},
          "execution_count": 8
        }
      ]
    },
    {
      "cell_type": "markdown",
      "source": [
        "**Cleaning content datasets which has no meaning**"
      ],
      "metadata": {
        "id": "EYzeLYn7wLTO"
      }
    },
    {
      "cell_type": "code",
      "source": [
        "df['content'].iloc[0]"
      ],
      "metadata": {
        "colab": {
          "base_uri": "https://localhost:8080/",
          "height": 157
        },
        "id": "vFnIHpETwfoK",
        "outputId": "33e6f65b-e1be-4a4e-a278-25a6aabd3b02"
      },
      "execution_count": 9,
      "outputs": [
        {
          "output_type": "execute_result",
          "data": {
            "text/plain": [
              "'Hasil periksa fakta Vendra PanjiDalam video aslinya tersebut tidak berisi penjelasan adanya peristiwa perampasan yang dilakukan oleh Israel. Truk-truk tersebut berhenti karena sedang dalam proses untuk melewati perbatasan Rafah, yaitu perbatasan antara Mesir dengan Gaza.===========[KATEGORI]: Konten dimanipulasi===========[SUMBER]: Tiktok https://archive.cob.web.id/archive/1700676627.275035/index.html\\xa0===========[NARASI]: “Ini Gambaran Konvoi Bantuan Untuk Palestina Yang Di Rampas ISRAELSebarkan Agar Dunia Tau Betapa K3J@m ISRAEL”===========[PENJELASAN]:\\xa0Sebuah video di Tiktok memperlihatkan banyak sekali truk yang terparkir memanjang, video itu juga disertai dengan narasi jika truk-truk tersebut merupakan bantuan untuk Palestina yang sedang dirampas Israel.Namun, setelah ditelusuri rupanya potongan video tersebut berasal dari sebuah media asal Mesir bernama Al Nahar, video itu diunggah di Facebook pada 31 Mei 2021 lalu. Video juga disertai dengan caption berbahasa Arab yang jika diterjemahkan artinya adalah ““For the third time.. #Egypt sends the largest convoys of support and aid to the Palestinians in #Gaza,”.Dalam video aslinya tersebut tidak berisi penjelasan adanya peristiwa perampasan yang dilakukan oleh Israel. Truk-truk tersebut berhenti karena sedang dalam proses untuk melewati perbatasan Rafah, yaitu perbatasan antara Mesir dengan Gaza.Sehingga dapat disimpulkan jika klaim yang mengatakan video tersebut merupakan perampasan bantuan Palestina oleh Israel adalah tidak benar. Truk tersebut berhenti dikarenakan sedang dalam proses untuk melewati perbatasan Rafah.===========\\xa0[REFERENSI] :https://www.facebook.com/watch/?ref=embed_video&v=563146664690735https://pesacheck.org/false-this-video-is-not-of-aid-vehicles-stalled-at-the-rafah-border-in-2023-d648991a7e68'"
            ],
            "application/vnd.google.colaboratory.intrinsic+json": {
              "type": "string"
            }
          },
          "metadata": {},
          "execution_count": 9
        }
      ]
    },
    {
      "cell_type": "code",
      "source": [
        "df['content'] = df['content'].str.replace('=', '')"
      ],
      "metadata": {
        "id": "8nUk9-zFw_2z"
      },
      "execution_count": 10,
      "outputs": []
    },
    {
      "cell_type": "code",
      "source": [
        "df['content'] = df['content'].str.replace(r'\\[.*?\\]|\\(.*?\\)', '', regex=True)"
      ],
      "metadata": {
        "id": "X63CSfsFzBpq"
      },
      "execution_count": 11,
      "outputs": []
    },
    {
      "cell_type": "code",
      "source": [
        "df['content'].iloc[0]"
      ],
      "metadata": {
        "colab": {
          "base_uri": "https://localhost:8080/",
          "height": 157
        },
        "id": "nczMW-jrzF0L",
        "outputId": "ab945b71-053f-46dd-b13b-430f505f1c27"
      },
      "execution_count": 12,
      "outputs": [
        {
          "output_type": "execute_result",
          "data": {
            "text/plain": [
              "'Hasil periksa fakta Vendra PanjiDalam video aslinya tersebut tidak berisi penjelasan adanya peristiwa perampasan yang dilakukan oleh Israel. Truk-truk tersebut berhenti karena sedang dalam proses untuk melewati perbatasan Rafah, yaitu perbatasan antara Mesir dengan Gaza.: Konten dimanipulasi: Tiktok https://archive.cob.web.id/archive/1700676627.275035/index.html\\xa0: “Ini Gambaran Konvoi Bantuan Untuk Palestina Yang Di Rampas ISRAELSebarkan Agar Dunia Tau Betapa K3J@m ISRAEL”:\\xa0Sebuah video di Tiktok memperlihatkan banyak sekali truk yang terparkir memanjang, video itu juga disertai dengan narasi jika truk-truk tersebut merupakan bantuan untuk Palestina yang sedang dirampas Israel.Namun, setelah ditelusuri rupanya potongan video tersebut berasal dari sebuah media asal Mesir bernama Al Nahar, video itu diunggah di Facebook pada 31 Mei 2021 lalu. Video juga disertai dengan caption berbahasa Arab yang jika diterjemahkan artinya adalah ““For the third time.. #Egypt sends the largest convoys of support and aid to the Palestinians in #Gaza,”.Dalam video aslinya tersebut tidak berisi penjelasan adanya peristiwa perampasan yang dilakukan oleh Israel. Truk-truk tersebut berhenti karena sedang dalam proses untuk melewati perbatasan Rafah, yaitu perbatasan antara Mesir dengan Gaza.Sehingga dapat disimpulkan jika klaim yang mengatakan video tersebut merupakan perampasan bantuan Palestina oleh Israel adalah tidak benar. Truk tersebut berhenti dikarenakan sedang dalam proses untuk melewati perbatasan Rafah.\\xa0 :https://www.facebook.com/watch/?refembed_video&v563146664690735https://pesacheck.org/false-this-video-is-not-of-aid-vehicles-stalled-at-the-rafah-border-in-2023-d648991a7e68'"
            ],
            "application/vnd.google.colaboratory.intrinsic+json": {
              "type": "string"
            }
          },
          "metadata": {},
          "execution_count": 12
        }
      ]
    },
    {
      "cell_type": "markdown",
      "source": [
        "**Implementing Stopwords to remove the common words**"
      ],
      "metadata": {
        "id": "Q6hsA9J-wnbO"
      }
    },
    {
      "cell_type": "code",
      "source": [
        "import nltk\n",
        "from nltk.corpus import stopwords\n",
        "from nltk.tokenize import word_tokenize"
      ],
      "metadata": {
        "id": "vwmnIgbvsoGm"
      },
      "execution_count": 13,
      "outputs": []
    },
    {
      "cell_type": "code",
      "source": [
        "nltk.download('stopwords')\n",
        "nltk.download('punkt')\n",
        "# nltk.download('indonesian')\n",
        "# stop_words = set(stopwords.words('indonesian'))"
      ],
      "metadata": {
        "colab": {
          "base_uri": "https://localhost:8080/"
        },
        "id": "AscSgBfZtN8k",
        "outputId": "cf21bbad-12e4-4770-df44-7257ff42c3b6"
      },
      "execution_count": 14,
      "outputs": [
        {
          "output_type": "stream",
          "name": "stderr",
          "text": [
            "[nltk_data] Downloading package stopwords to /root/nltk_data...\n",
            "[nltk_data]   Unzipping corpora/stopwords.zip.\n",
            "[nltk_data] Downloading package punkt to /root/nltk_data...\n",
            "[nltk_data]   Unzipping tokenizers/punkt.zip.\n"
          ]
        },
        {
          "output_type": "execute_result",
          "data": {
            "text/plain": [
              "True"
            ]
          },
          "metadata": {},
          "execution_count": 14
        }
      ]
    },
    {
      "cell_type": "code",
      "source": [
        "stop_words_file = 'stopwords_indonesian.txt'\n",
        "with open(stop_words_file, 'r') as file:\n",
        "    stop_words = set(file.read().splitlines())\n",
        "\n",
        "print(len(stop_words))"
      ],
      "metadata": {
        "colab": {
          "base_uri": "https://localhost:8080/"
        },
        "id": "cZ9GfCd3vKHS",
        "outputId": "cf3a87b3-22c8-4822-cde7-e1c7c0e227ce"
      },
      "execution_count": 15,
      "outputs": [
        {
          "output_type": "stream",
          "name": "stdout",
          "text": [
            "757\n"
          ]
        }
      ]
    },
    {
      "cell_type": "code",
      "source": [
        "cleaned_content = []\n",
        "for index in df['content']:\n",
        "  word_tokens = word_tokenize(index)\n",
        "  filtered_sentence = [w for w in word_tokens if not w.lower() in stop_words]\n",
        "  cleaned_content.append(' '.join(filtered_sentence))\n",
        "\n",
        "print(len(cleaned_content))"
      ],
      "metadata": {
        "colab": {
          "base_uri": "https://localhost:8080/"
        },
        "id": "o1K_e9x0tjAq",
        "outputId": "9c9c0673-3fef-4ea3-c9b6-f6ffb2ec475b"
      },
      "execution_count": 16,
      "outputs": [
        {
          "output_type": "stream",
          "name": "stdout",
          "text": [
            "322\n"
          ]
        }
      ]
    },
    {
      "cell_type": "code",
      "source": [
        "df['content'] = cleaned_content"
      ],
      "metadata": {
        "id": "gusWbSifuXBa"
      },
      "execution_count": 17,
      "outputs": []
    },
    {
      "cell_type": "code",
      "source": [
        "df['content'].iloc[29]"
      ],
      "metadata": {
        "colab": {
          "base_uri": "https://localhost:8080/",
          "height": 157
        },
        "id": "SZP72Rf0zVYR",
        "outputId": "03299363-478b-4632-ec28-58d17f5e6513"
      },
      "execution_count": 18,
      "outputs": [
        {
          "output_type": "execute_result",
          "data": {
            "text/plain": [
              "'Hasil periksa fakta Mochamad MarcellFaktanya video diambil perayaan kembang api Aljazair klub bola CR Belouizdad memenangkan kejuaraan Aljazair 2020 . Selengkapnya penjelasan . Kategori : Konteks Salah Sumber : Twitterhttps : //ghostarchive.org/archive/aHJCM Narasi : “ Hell on Earth Gaza . War is a bad thing for humanity . Innocent people do not deserve to live in this chaos . Stop the war ! # Israel # Palestine # Gaza # Hamas ” Terjemahan : “ Neraka Bumi Gaza . Perang buruk umat manusia . Orang bersalah hidup kekacauan . Hentikan perang ! # Israel # Palestina # Gaza # Hamas ” Penjelasan : Video Twitter kota terbakar malam diklaim Gaza akibat serangan Israel jalur Gaza.Setelah ditelusuri klaim salah , faktanya video diambil Aljazair perayaan kembang api klub bola CR Belouizdad memenangkan kejuaraan Aljazair 2020 . Wartawan AFP mengonfirmasi rekaman tersebar internet kali 27 September 2023 , seminggu Hamas menyerang Israel 7 Oktober 2023.Dengan , video Gaza terbakar diserang Israel kategori Konteks Salah . Referensi : https : //factcheck.afp.com/doc.afp.com.33XM7CC'"
            ],
            "application/vnd.google.colaboratory.intrinsic+json": {
              "type": "string"
            }
          },
          "metadata": {},
          "execution_count": 18
        }
      ]
    },
    {
      "cell_type": "markdown",
      "source": [
        "Splitting times data into three columns, date, month, year\n"
      ],
      "metadata": {
        "id": "nAOW9tPxz_jS"
      }
    },
    {
      "cell_type": "code",
      "source": [
        "from datetime import datetime"
      ],
      "metadata": {
        "id": "v0meRuYS1Tsu"
      },
      "execution_count": 19,
      "outputs": []
    },
    {
      "cell_type": "code",
      "source": [
        "df['time'].iloc[317]"
      ],
      "metadata": {
        "colab": {
          "base_uri": "https://localhost:8080/",
          "height": 35
        },
        "id": "w7-l3lZ-1jMq",
        "outputId": "d3b84133-5d14-4da4-e403-5e02f73bfc6b"
      },
      "execution_count": 20,
      "outputs": [
        {
          "output_type": "execute_result",
          "data": {
            "text/plain": [
              "'Mei 5, 2021'"
            ],
            "application/vnd.google.colaboratory.intrinsic+json": {
              "type": "string"
            }
          },
          "metadata": {},
          "execution_count": 20
        }
      ]
    },
    {
      "cell_type": "code",
      "source": [
        "df['date'] = ''\n",
        "df['month'] = ''\n",
        "df['year'] = ''\n",
        "\n",
        "def split_date(date_string):\n",
        "    match = re.match(r'(\\w+) (\\d+), (\\d+)', date_string)\n",
        "    if match:\n",
        "        month, date, year = match.groups()\n",
        "        return month, int(date), int(year)\n",
        "    return None, None, None\n",
        "\n",
        "for index, row in df[['time']].iterrows():\n",
        "    month, date, year = split_date(row['time'])\n",
        "    if all([month, date, year]):\n",
        "        df.at[index, 'month'] = month\n",
        "        df.at[index, 'date'] = date\n",
        "        df.at[index, 'year'] = year"
      ],
      "metadata": {
        "id": "iGdLwq0Pz60a"
      },
      "execution_count": 21,
      "outputs": []
    },
    {
      "cell_type": "code",
      "source": [
        "df['month'].unique()"
      ],
      "metadata": {
        "colab": {
          "base_uri": "https://localhost:8080/"
        },
        "id": "ZHqaOquI2uId",
        "outputId": "af6a7eb3-719a-4c89-8f95-043c3de85543"
      },
      "execution_count": 22,
      "outputs": [
        {
          "output_type": "execute_result",
          "data": {
            "text/plain": [
              "array(['November', 'Oktober', 'September', 'Juni', 'Mei', 'April',\n",
              "       'Maret', 'Januari', 'Desember', 'Februari', 'Juli', 'Agustus'],\n",
              "      dtype=object)"
            ]
          },
          "metadata": {},
          "execution_count": 22
        }
      ]
    },
    {
      "cell_type": "code",
      "source": [
        "df['year'].unique()"
      ],
      "metadata": {
        "colab": {
          "base_uri": "https://localhost:8080/"
        },
        "id": "p25Fiqpd-oeL",
        "outputId": "947a363a-ce9f-4c03-a99e-daae0a515f27"
      },
      "execution_count": 25,
      "outputs": [
        {
          "output_type": "execute_result",
          "data": {
            "text/plain": [
              "array([2023, 2022, 2021, 2020, 2019, 2018, 2017, 2016, 2015], dtype=object)"
            ]
          },
          "metadata": {},
          "execution_count": 25
        }
      ]
    },
    {
      "cell_type": "code",
      "source": [
        "df['date'].nunique()"
      ],
      "metadata": {
        "colab": {
          "base_uri": "https://localhost:8080/"
        },
        "id": "kVTpLdGe-zW1",
        "outputId": "4fedfb11-ce76-482d-9e25-bf6545e22f8b"
      },
      "execution_count": 26,
      "outputs": [
        {
          "output_type": "execute_result",
          "data": {
            "text/plain": [
              "31"
            ]
          },
          "metadata": {},
          "execution_count": 26
        }
      ]
    },
    {
      "cell_type": "code",
      "source": [
        "df.isna().sum()"
      ],
      "metadata": {
        "colab": {
          "base_uri": "https://localhost:8080/"
        },
        "id": "of6yTS4UAZDG",
        "outputId": "b7487898-387c-45c4-aa2b-9d305b17ddc6"
      },
      "execution_count": 27,
      "outputs": [
        {
          "output_type": "execute_result",
          "data": {
            "text/plain": [
              "headline    0\n",
              "time        0\n",
              "content     0\n",
              "link        0\n",
              "hoax        0\n",
              "date        0\n",
              "month       0\n",
              "year        0\n",
              "dtype: int64"
            ]
          },
          "metadata": {},
          "execution_count": 27
        }
      ]
    },
    {
      "cell_type": "markdown",
      "source": [
        "Turning the mounth data into correct format"
      ],
      "metadata": {
        "id": "OrK8ZM_AFOi5"
      }
    },
    {
      "cell_type": "code",
      "source": [
        "df['month'] = df['month'].map({\n",
        "    'November':'November',\n",
        "    'Oktober':'October',\n",
        "    'September':'September',\n",
        "    'Juni':'June',\n",
        "    'Mei':'May',\n",
        "    'April':'April',\n",
        "    'Maret':'March',\n",
        "    'Januari':'January',\n",
        "    'Desember':'December',\n",
        "    'Februari':'February',\n",
        "    'Juli':'July',\n",
        "    'Agustus':'August'\n",
        "})"
      ],
      "metadata": {
        "id": "DUgaHoMzFNE6"
      },
      "execution_count": 32,
      "outputs": []
    },
    {
      "cell_type": "code",
      "source": [
        "df['month'].unique()"
      ],
      "metadata": {
        "colab": {
          "base_uri": "https://localhost:8080/"
        },
        "id": "vvmoMmWUGY4E",
        "outputId": "2f478642-55fa-4bf7-bbc5-99fae9d0cb7e"
      },
      "execution_count": 33,
      "outputs": [
        {
          "output_type": "execute_result",
          "data": {
            "text/plain": [
              "array(['November', 'October', 'September', 'June', 'May', 'April',\n",
              "       'March', 'January', 'December', 'February', 'July', 'August'],\n",
              "      dtype=object)"
            ]
          },
          "metadata": {},
          "execution_count": 33
        }
      ]
    },
    {
      "cell_type": "code",
      "source": [
        "df.head()"
      ],
      "metadata": {
        "colab": {
          "base_uri": "https://localhost:8080/",
          "height": 431
        },
        "id": "EMWf-ma4Gkaz",
        "outputId": "c210267d-f5d5-4cec-ba1c-593918ae97a9"
      },
      "execution_count": 35,
      "outputs": [
        {
          "output_type": "execute_result",
          "data": {
            "text/plain": [
              "                                            headline               time  \\\n",
              "0      Konvoi Bantuan Palestina Dirampas oleh Israel  November 25, 2023   \n",
              "1  Video Polisi Israel Mencekik Anak Palestina di...  November 23, 2023   \n",
              "2  Video Tentara Israel Memasang Bendera Israel d...  November 23, 2023   \n",
              "3  Perusahaan Israel Pepsi Ubah Kemasan Bertulisa...  November 23, 2023   \n",
              "4  Cristiano Ronaldo Lempar Mic Wartawan Israel k...  November 22, 2023   \n",
              "\n",
              "                                             content  \\\n",
              "0  Hasil periksa fakta Vendra PanjiDalam video as...   \n",
              "1  Hasil periksa fakta Moch . MarcellodiansyahFak...   \n",
              "2  Hasil periksa fakta Evarizma Zahra . Konten me...   \n",
              "3  Hasil periksa fakta Moch . MarcellodiansyahFak...   \n",
              "4  Hasil periksa fakta Vendra PanjiCR7 melempar m...   \n",
              "\n",
              "                                                link  hoax date     month  \\\n",
              "0  https://turnbackhoax.id/2023/11/25/salah-konvo...     1   25  November   \n",
              "1  https://turnbackhoax.id/2023/11/23/salah-video...     1   23  November   \n",
              "2  https://turnbackhoax.id/2023/11/23/salah-video...     1   23  November   \n",
              "3  https://turnbackhoax.id/2023/11/23/salah-perus...     1   23  November   \n",
              "4  https://turnbackhoax.id/2023/11/22/salah-crist...     1   22  November   \n",
              "\n",
              "   year  \n",
              "0  2023  \n",
              "1  2023  \n",
              "2  2023  \n",
              "3  2023  \n",
              "4  2023  "
            ],
            "text/html": [
              "\n",
              "  <div id=\"df-860f9964-6bf7-45d6-8dce-84ac2e99c9a2\" class=\"colab-df-container\">\n",
              "    <div>\n",
              "<style scoped>\n",
              "    .dataframe tbody tr th:only-of-type {\n",
              "        vertical-align: middle;\n",
              "    }\n",
              "\n",
              "    .dataframe tbody tr th {\n",
              "        vertical-align: top;\n",
              "    }\n",
              "\n",
              "    .dataframe thead th {\n",
              "        text-align: right;\n",
              "    }\n",
              "</style>\n",
              "<table border=\"1\" class=\"dataframe\">\n",
              "  <thead>\n",
              "    <tr style=\"text-align: right;\">\n",
              "      <th></th>\n",
              "      <th>headline</th>\n",
              "      <th>time</th>\n",
              "      <th>content</th>\n",
              "      <th>link</th>\n",
              "      <th>hoax</th>\n",
              "      <th>date</th>\n",
              "      <th>month</th>\n",
              "      <th>year</th>\n",
              "    </tr>\n",
              "  </thead>\n",
              "  <tbody>\n",
              "    <tr>\n",
              "      <th>0</th>\n",
              "      <td>Konvoi Bantuan Palestina Dirampas oleh Israel</td>\n",
              "      <td>November 25, 2023</td>\n",
              "      <td>Hasil periksa fakta Vendra PanjiDalam video as...</td>\n",
              "      <td>https://turnbackhoax.id/2023/11/25/salah-konvo...</td>\n",
              "      <td>1</td>\n",
              "      <td>25</td>\n",
              "      <td>November</td>\n",
              "      <td>2023</td>\n",
              "    </tr>\n",
              "    <tr>\n",
              "      <th>1</th>\n",
              "      <td>Video Polisi Israel Mencekik Anak Palestina di...</td>\n",
              "      <td>November 23, 2023</td>\n",
              "      <td>Hasil periksa fakta Moch . MarcellodiansyahFak...</td>\n",
              "      <td>https://turnbackhoax.id/2023/11/23/salah-video...</td>\n",
              "      <td>1</td>\n",
              "      <td>23</td>\n",
              "      <td>November</td>\n",
              "      <td>2023</td>\n",
              "    </tr>\n",
              "    <tr>\n",
              "      <th>2</th>\n",
              "      <td>Video Tentara Israel Memasang Bendera Israel d...</td>\n",
              "      <td>November 23, 2023</td>\n",
              "      <td>Hasil periksa fakta Evarizma Zahra . Konten me...</td>\n",
              "      <td>https://turnbackhoax.id/2023/11/23/salah-video...</td>\n",
              "      <td>1</td>\n",
              "      <td>23</td>\n",
              "      <td>November</td>\n",
              "      <td>2023</td>\n",
              "    </tr>\n",
              "    <tr>\n",
              "      <th>3</th>\n",
              "      <td>Perusahaan Israel Pepsi Ubah Kemasan Bertulisa...</td>\n",
              "      <td>November 23, 2023</td>\n",
              "      <td>Hasil periksa fakta Moch . MarcellodiansyahFak...</td>\n",
              "      <td>https://turnbackhoax.id/2023/11/23/salah-perus...</td>\n",
              "      <td>1</td>\n",
              "      <td>23</td>\n",
              "      <td>November</td>\n",
              "      <td>2023</td>\n",
              "    </tr>\n",
              "    <tr>\n",
              "      <th>4</th>\n",
              "      <td>Cristiano Ronaldo Lempar Mic Wartawan Israel k...</td>\n",
              "      <td>November 22, 2023</td>\n",
              "      <td>Hasil periksa fakta Vendra PanjiCR7 melempar m...</td>\n",
              "      <td>https://turnbackhoax.id/2023/11/22/salah-crist...</td>\n",
              "      <td>1</td>\n",
              "      <td>22</td>\n",
              "      <td>November</td>\n",
              "      <td>2023</td>\n",
              "    </tr>\n",
              "  </tbody>\n",
              "</table>\n",
              "</div>\n",
              "    <div class=\"colab-df-buttons\">\n",
              "\n",
              "  <div class=\"colab-df-container\">\n",
              "    <button class=\"colab-df-convert\" onclick=\"convertToInteractive('df-860f9964-6bf7-45d6-8dce-84ac2e99c9a2')\"\n",
              "            title=\"Convert this dataframe to an interactive table.\"\n",
              "            style=\"display:none;\">\n",
              "\n",
              "  <svg xmlns=\"http://www.w3.org/2000/svg\" height=\"24px\" viewBox=\"0 -960 960 960\">\n",
              "    <path d=\"M120-120v-720h720v720H120Zm60-500h600v-160H180v160Zm220 220h160v-160H400v160Zm0 220h160v-160H400v160ZM180-400h160v-160H180v160Zm440 0h160v-160H620v160ZM180-180h160v-160H180v160Zm440 0h160v-160H620v160Z\"/>\n",
              "  </svg>\n",
              "    </button>\n",
              "\n",
              "  <style>\n",
              "    .colab-df-container {\n",
              "      display:flex;\n",
              "      gap: 12px;\n",
              "    }\n",
              "\n",
              "    .colab-df-convert {\n",
              "      background-color: #E8F0FE;\n",
              "      border: none;\n",
              "      border-radius: 50%;\n",
              "      cursor: pointer;\n",
              "      display: none;\n",
              "      fill: #1967D2;\n",
              "      height: 32px;\n",
              "      padding: 0 0 0 0;\n",
              "      width: 32px;\n",
              "    }\n",
              "\n",
              "    .colab-df-convert:hover {\n",
              "      background-color: #E2EBFA;\n",
              "      box-shadow: 0px 1px 2px rgba(60, 64, 67, 0.3), 0px 1px 3px 1px rgba(60, 64, 67, 0.15);\n",
              "      fill: #174EA6;\n",
              "    }\n",
              "\n",
              "    .colab-df-buttons div {\n",
              "      margin-bottom: 4px;\n",
              "    }\n",
              "\n",
              "    [theme=dark] .colab-df-convert {\n",
              "      background-color: #3B4455;\n",
              "      fill: #D2E3FC;\n",
              "    }\n",
              "\n",
              "    [theme=dark] .colab-df-convert:hover {\n",
              "      background-color: #434B5C;\n",
              "      box-shadow: 0px 1px 3px 1px rgba(0, 0, 0, 0.15);\n",
              "      filter: drop-shadow(0px 1px 2px rgba(0, 0, 0, 0.3));\n",
              "      fill: #FFFFFF;\n",
              "    }\n",
              "  </style>\n",
              "\n",
              "    <script>\n",
              "      const buttonEl =\n",
              "        document.querySelector('#df-860f9964-6bf7-45d6-8dce-84ac2e99c9a2 button.colab-df-convert');\n",
              "      buttonEl.style.display =\n",
              "        google.colab.kernel.accessAllowed ? 'block' : 'none';\n",
              "\n",
              "      async function convertToInteractive(key) {\n",
              "        const element = document.querySelector('#df-860f9964-6bf7-45d6-8dce-84ac2e99c9a2');\n",
              "        const dataTable =\n",
              "          await google.colab.kernel.invokeFunction('convertToInteractive',\n",
              "                                                    [key], {});\n",
              "        if (!dataTable) return;\n",
              "\n",
              "        const docLinkHtml = 'Like what you see? Visit the ' +\n",
              "          '<a target=\"_blank\" href=https://colab.research.google.com/notebooks/data_table.ipynb>data table notebook</a>'\n",
              "          + ' to learn more about interactive tables.';\n",
              "        element.innerHTML = '';\n",
              "        dataTable['output_type'] = 'display_data';\n",
              "        await google.colab.output.renderOutput(dataTable, element);\n",
              "        const docLink = document.createElement('div');\n",
              "        docLink.innerHTML = docLinkHtml;\n",
              "        element.appendChild(docLink);\n",
              "      }\n",
              "    </script>\n",
              "  </div>\n",
              "\n",
              "\n",
              "<div id=\"df-4e6dcf49-9ee0-4adc-8015-14ebc52227f1\">\n",
              "  <button class=\"colab-df-quickchart\" onclick=\"quickchart('df-4e6dcf49-9ee0-4adc-8015-14ebc52227f1')\"\n",
              "            title=\"Suggest charts\"\n",
              "            style=\"display:none;\">\n",
              "\n",
              "<svg xmlns=\"http://www.w3.org/2000/svg\" height=\"24px\"viewBox=\"0 0 24 24\"\n",
              "     width=\"24px\">\n",
              "    <g>\n",
              "        <path d=\"M19 3H5c-1.1 0-2 .9-2 2v14c0 1.1.9 2 2 2h14c1.1 0 2-.9 2-2V5c0-1.1-.9-2-2-2zM9 17H7v-7h2v7zm4 0h-2V7h2v10zm4 0h-2v-4h2v4z\"/>\n",
              "    </g>\n",
              "</svg>\n",
              "  </button>\n",
              "\n",
              "<style>\n",
              "  .colab-df-quickchart {\n",
              "      --bg-color: #E8F0FE;\n",
              "      --fill-color: #1967D2;\n",
              "      --hover-bg-color: #E2EBFA;\n",
              "      --hover-fill-color: #174EA6;\n",
              "      --disabled-fill-color: #AAA;\n",
              "      --disabled-bg-color: #DDD;\n",
              "  }\n",
              "\n",
              "  [theme=dark] .colab-df-quickchart {\n",
              "      --bg-color: #3B4455;\n",
              "      --fill-color: #D2E3FC;\n",
              "      --hover-bg-color: #434B5C;\n",
              "      --hover-fill-color: #FFFFFF;\n",
              "      --disabled-bg-color: #3B4455;\n",
              "      --disabled-fill-color: #666;\n",
              "  }\n",
              "\n",
              "  .colab-df-quickchart {\n",
              "    background-color: var(--bg-color);\n",
              "    border: none;\n",
              "    border-radius: 50%;\n",
              "    cursor: pointer;\n",
              "    display: none;\n",
              "    fill: var(--fill-color);\n",
              "    height: 32px;\n",
              "    padding: 0;\n",
              "    width: 32px;\n",
              "  }\n",
              "\n",
              "  .colab-df-quickchart:hover {\n",
              "    background-color: var(--hover-bg-color);\n",
              "    box-shadow: 0 1px 2px rgba(60, 64, 67, 0.3), 0 1px 3px 1px rgba(60, 64, 67, 0.15);\n",
              "    fill: var(--button-hover-fill-color);\n",
              "  }\n",
              "\n",
              "  .colab-df-quickchart-complete:disabled,\n",
              "  .colab-df-quickchart-complete:disabled:hover {\n",
              "    background-color: var(--disabled-bg-color);\n",
              "    fill: var(--disabled-fill-color);\n",
              "    box-shadow: none;\n",
              "  }\n",
              "\n",
              "  .colab-df-spinner {\n",
              "    border: 2px solid var(--fill-color);\n",
              "    border-color: transparent;\n",
              "    border-bottom-color: var(--fill-color);\n",
              "    animation:\n",
              "      spin 1s steps(1) infinite;\n",
              "  }\n",
              "\n",
              "  @keyframes spin {\n",
              "    0% {\n",
              "      border-color: transparent;\n",
              "      border-bottom-color: var(--fill-color);\n",
              "      border-left-color: var(--fill-color);\n",
              "    }\n",
              "    20% {\n",
              "      border-color: transparent;\n",
              "      border-left-color: var(--fill-color);\n",
              "      border-top-color: var(--fill-color);\n",
              "    }\n",
              "    30% {\n",
              "      border-color: transparent;\n",
              "      border-left-color: var(--fill-color);\n",
              "      border-top-color: var(--fill-color);\n",
              "      border-right-color: var(--fill-color);\n",
              "    }\n",
              "    40% {\n",
              "      border-color: transparent;\n",
              "      border-right-color: var(--fill-color);\n",
              "      border-top-color: var(--fill-color);\n",
              "    }\n",
              "    60% {\n",
              "      border-color: transparent;\n",
              "      border-right-color: var(--fill-color);\n",
              "    }\n",
              "    80% {\n",
              "      border-color: transparent;\n",
              "      border-right-color: var(--fill-color);\n",
              "      border-bottom-color: var(--fill-color);\n",
              "    }\n",
              "    90% {\n",
              "      border-color: transparent;\n",
              "      border-bottom-color: var(--fill-color);\n",
              "    }\n",
              "  }\n",
              "</style>\n",
              "\n",
              "  <script>\n",
              "    async function quickchart(key) {\n",
              "      const quickchartButtonEl =\n",
              "        document.querySelector('#' + key + ' button');\n",
              "      quickchartButtonEl.disabled = true;  // To prevent multiple clicks.\n",
              "      quickchartButtonEl.classList.add('colab-df-spinner');\n",
              "      try {\n",
              "        const charts = await google.colab.kernel.invokeFunction(\n",
              "            'suggestCharts', [key], {});\n",
              "      } catch (error) {\n",
              "        console.error('Error during call to suggestCharts:', error);\n",
              "      }\n",
              "      quickchartButtonEl.classList.remove('colab-df-spinner');\n",
              "      quickchartButtonEl.classList.add('colab-df-quickchart-complete');\n",
              "    }\n",
              "    (() => {\n",
              "      let quickchartButtonEl =\n",
              "        document.querySelector('#df-4e6dcf49-9ee0-4adc-8015-14ebc52227f1 button');\n",
              "      quickchartButtonEl.style.display =\n",
              "        google.colab.kernel.accessAllowed ? 'block' : 'none';\n",
              "    })();\n",
              "  </script>\n",
              "</div>\n",
              "    </div>\n",
              "  </div>\n"
            ]
          },
          "metadata": {},
          "execution_count": 35
        }
      ]
    },
    {
      "cell_type": "code",
      "source": [
        "df = df[['headline','date','month','year','content','link','hoax']]"
      ],
      "metadata": {
        "id": "Au1wVsyq_mee"
      },
      "execution_count": 36,
      "outputs": []
    },
    {
      "cell_type": "code",
      "source": [
        "df.to_csv('data_turnbackhoax_clean.csv', index = False)"
      ],
      "metadata": {
        "id": "avv5z_9mAFVF"
      },
      "execution_count": 37,
      "outputs": []
    },
    {
      "cell_type": "code",
      "source": [],
      "metadata": {
        "id": "qrsZ3-jnGsJp"
      },
      "execution_count": null,
      "outputs": []
    }
  ]
}