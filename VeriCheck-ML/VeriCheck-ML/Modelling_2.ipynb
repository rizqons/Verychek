{
  "nbformat": 4,
  "nbformat_minor": 0,
  "metadata": {
    "colab": {
      "provenance": []
    },
    "kernelspec": {
      "name": "python3",
      "display_name": "Python 3"
    },
    "language_info": {
      "name": "python"
    }
  },
  "cells": [
    {
      "cell_type": "code",
      "execution_count": 1,
      "metadata": {
        "id": "OIIwAW0XAVET"
      },
      "outputs": [],
      "source": [
        "import pandas as pd\n",
        "import tensorflow as tf\n",
        "import re\n",
        "from sklearn.model_selection import train_test_split\n",
        "from keras.preprocessing.text import Tokenizer\n",
        "from keras.preprocessing.sequence import pad_sequences"
      ]
    },
    {
      "cell_type": "code",
      "source": [
        "df = pd.read_csv('merging_data.csv')"
      ],
      "metadata": {
        "id": "qq04RWLOAZX_"
      },
      "execution_count": 2,
      "outputs": []
    },
    {
      "cell_type": "code",
      "source": [
        "df['content']"
      ],
      "metadata": {
        "colab": {
          "base_uri": "https://localhost:8080/"
        },
        "id": "5Iuug3EGAj8g",
        "outputId": "efd7c169-aa6a-494a-e7fc-b122ded47db3"
      },
      "execution_count": 3,
      "outputs": [
        {
          "output_type": "execute_result",
          "data": {
            "text/plain": [
              "0       doyan menonton konser musik merapat ! konser m...\n",
              "1       Supermodel Gigi Hadid salah vokal menyuarakan ...\n",
              "2       Direktur badan intelijen pusat Amerika Serikat...\n",
              "3       konser musik digelar Surabaya Desember 2023 . ...\n",
              "4       Persaudaraan Alumni 212 mengundang capres cawa...\n",
              "                              ...                        \n",
              "1239    Hasil Periksa Fakta Fathia Islamiyatul Syahida...\n",
              "1240    Ridwan Kamil menulis artikel . Tulisan kali di...\n",
              "1241    Hasil Periksa Fakta Khairunnisa Andini .Tidak ...\n",
              "1242    Padangbai , Kabupaten Karangasem , Bali . Kece...\n",
              "1243    Sumber video > euronews : “ Gaza destroys thou...\n",
              "Name: content, Length: 1244, dtype: object"
            ]
          },
          "metadata": {},
          "execution_count": 3
        }
      ]
    },
    {
      "cell_type": "code",
      "source": [
        "df['headline']"
      ],
      "metadata": {
        "colab": {
          "base_uri": "https://localhost:8080/"
        },
        "id": "8R4gLf-XiS2F",
        "outputId": "9f53ee3d-771f-476b-95e8-d979413c05f0"
      },
      "execution_count": 4,
      "outputs": [
        {
          "output_type": "execute_result",
          "data": {
            "text/plain": [
              "0         Jadwal Konser di Jawa Timur untuk Desember 2023\n",
              "1               Gigi Hadid Diserang Selebritas Pro-Israel\n",
              "2         Bos CIA dan Mossad Bertemu PM Qatar, Bahas Apa?\n",
              "3       10 Konser di Surabaya Desember 2023: Ada Tulus...\n",
              "4       PA 212: Kami Tak Undang Capres dan Cawapres Ma...\n",
              "                              ...                        \n",
              "1239    Menteri Agama Yaqut Cholil Berasal dari Kelomp...\n",
              "1240    Tulisan Ridwan Kamil : “NIAT BUSUK KUBU SEBELA...\n",
              "1241    Video “BERITA TERBARU ~ RONALDO SUMBANGKAN GAJ...\n",
              "1242           Video “Kapal oleng di pelabuhan padangbae”\n",
              "1243    “Guys! Tolong Jangan Beli Cokelat Snickers” | ...\n",
              "Name: headline, Length: 1244, dtype: object"
            ]
          },
          "metadata": {},
          "execution_count": 4
        }
      ]
    },
    {
      "cell_type": "code",
      "source": [
        "df['headline'] + df['content']"
      ],
      "metadata": {
        "colab": {
          "base_uri": "https://localhost:8080/"
        },
        "id": "hTGPYyIaiVRC",
        "outputId": "14b777de-c560-4171-d5be-88f446ca6956"
      },
      "execution_count": 6,
      "outputs": [
        {
          "output_type": "execute_result",
          "data": {
            "text/plain": [
              "0       Jadwal Konser di Jawa Timur untuk Desember 202...\n",
              "1       Gigi Hadid Diserang Selebritas Pro-IsraelSuper...\n",
              "2       Bos CIA dan Mossad Bertemu PM Qatar, Bahas Apa...\n",
              "3       10 Konser di Surabaya Desember 2023: Ada Tulus...\n",
              "4       PA 212: Kami Tak Undang Capres dan Cawapres Ma...\n",
              "                              ...                        \n",
              "1239    Menteri Agama Yaqut Cholil Berasal dari Kelomp...\n",
              "1240    Tulisan Ridwan Kamil : “NIAT BUSUK KUBU SEBELA...\n",
              "1241    Video “BERITA TERBARU ~ RONALDO SUMBANGKAN GAJ...\n",
              "1242    Video “Kapal oleng di pelabuhan padangbae”Pada...\n",
              "1243    “Guys! Tolong Jangan Beli Cokelat Snickers” | ...\n",
              "Length: 1244, dtype: object"
            ]
          },
          "metadata": {},
          "execution_count": 6
        }
      ]
    },
    {
      "cell_type": "code",
      "source": [
        "features = df['headline'] + df['content']\n",
        "labels = df['hoax']"
      ],
      "metadata": {
        "id": "OZa4vT7WAmfP"
      },
      "execution_count": 7,
      "outputs": []
    },
    {
      "cell_type": "code",
      "source": [
        "training_sentences, validation_sentences, training_labels, validation_labels = train_test_split(features, labels, train_size=.8, random_state=42)"
      ],
      "metadata": {
        "id": "UjYp6yBKAux_"
      },
      "execution_count": 8,
      "outputs": []
    },
    {
      "cell_type": "code",
      "source": [
        "vocab_size = 1000\n",
        "embedding_dim = 16\n",
        "max_length = 120\n",
        "trunc_type = 'post'\n",
        "padding_type = 'post'\n",
        "oov_tok = \"<OOV>\""
      ],
      "metadata": {
        "id": "HvAwblftA2Yb"
      },
      "execution_count": 9,
      "outputs": []
    },
    {
      "cell_type": "code",
      "source": [
        "tokenizer = Tokenizer(num_words=vocab_size, oov_token=oov_tok)\n",
        "tokenizer.fit_on_texts(training_sentences)\n",
        "\n",
        "training_sequences = tokenizer.texts_to_sequences(training_sentences)\n",
        "training_padded = pad_sequences(training_sequences, maxlen=max_length, truncating=trunc_type, padding=padding_type)\n",
        "validation_sequences = tokenizer.texts_to_sequences(validation_sentences)\n",
        "validation_padded = pad_sequences(validation_sequences, maxlen=max_length, truncating=trunc_type, padding=padding_type)"
      ],
      "metadata": {
        "id": "-BHJ71VPAxLI"
      },
      "execution_count": 10,
      "outputs": []
    },
    {
      "cell_type": "code",
      "source": [
        "model = tf.keras.Sequential([\n",
        "        tf.keras.layers.Embedding(vocab_size, embedding_dim, input_length=max_length),\n",
        "        tf.keras.layers.GlobalMaxPooling1D(),\n",
        "        tf.keras.layers.Dense(6, activation='relu'),\n",
        "        tf.keras.layers.Dense(1, activation='sigmoid')\n",
        "    ])\n",
        "model.summary()"
      ],
      "metadata": {
        "colab": {
          "base_uri": "https://localhost:8080/"
        },
        "id": "kicw9TEDAyZ3",
        "outputId": "7c46a6f2-25c1-4a9f-8b29-9848fab3cc79"
      },
      "execution_count": 11,
      "outputs": [
        {
          "output_type": "stream",
          "name": "stdout",
          "text": [
            "Model: \"sequential\"\n",
            "_________________________________________________________________\n",
            " Layer (type)                Output Shape              Param #   \n",
            "=================================================================\n",
            " embedding (Embedding)       (None, 120, 16)           16000     \n",
            "                                                                 \n",
            " global_max_pooling1d (Glob  (None, 16)                0         \n",
            " alMaxPooling1D)                                                 \n",
            "                                                                 \n",
            " dense (Dense)               (None, 6)                 102       \n",
            "                                                                 \n",
            " dense_1 (Dense)             (None, 1)                 7         \n",
            "                                                                 \n",
            "=================================================================\n",
            "Total params: 16109 (62.93 KB)\n",
            "Trainable params: 16109 (62.93 KB)\n",
            "Non-trainable params: 0 (0.00 Byte)\n",
            "_________________________________________________________________\n"
          ]
        }
      ]
    },
    {
      "cell_type": "code",
      "source": [
        "model.compile(optimizer='adam', loss='binary_crossentropy', metrics=['accuracy'])\n",
        "history = model.fit(training_padded, training_labels,\n",
        "          epochs=10,\n",
        "          batch_size=32,\n",
        "          validation_data=(validation_padded, validation_labels))"
      ],
      "metadata": {
        "colab": {
          "base_uri": "https://localhost:8080/"
        },
        "id": "5vLwgyinA5uQ",
        "outputId": "1a20abef-bfb2-4d95-bc29-50e4faa8b4dc"
      },
      "execution_count": 39,
      "outputs": [
        {
          "output_type": "stream",
          "name": "stdout",
          "text": [
            "Epoch 1/10\n",
            "32/32 [==============================] - 2s 16ms/step - loss: 0.1888 - accuracy: 0.9990 - val_loss: 0.1751 - val_accuracy: 0.9960\n",
            "Epoch 2/10\n",
            "32/32 [==============================] - 0s 5ms/step - loss: 0.1457 - accuracy: 0.9990 - val_loss: 0.1381 - val_accuracy: 0.9960\n",
            "Epoch 3/10\n",
            "32/32 [==============================] - 0s 5ms/step - loss: 0.1114 - accuracy: 0.9990 - val_loss: 0.1094 - val_accuracy: 0.9960\n",
            "Epoch 4/10\n",
            "32/32 [==============================] - 0s 5ms/step - loss: 0.0851 - accuracy: 1.0000 - val_loss: 0.0872 - val_accuracy: 0.9960\n",
            "Epoch 5/10\n",
            "32/32 [==============================] - 0s 6ms/step - loss: 0.0650 - accuracy: 1.0000 - val_loss: 0.0709 - val_accuracy: 0.9960\n",
            "Epoch 6/10\n",
            "32/32 [==============================] - 0s 6ms/step - loss: 0.0502 - accuracy: 1.0000 - val_loss: 0.0589 - val_accuracy: 0.9960\n",
            "Epoch 7/10\n",
            "32/32 [==============================] - 0s 5ms/step - loss: 0.0394 - accuracy: 1.0000 - val_loss: 0.0498 - val_accuracy: 0.9960\n",
            "Epoch 8/10\n",
            "32/32 [==============================] - 0s 6ms/step - loss: 0.0313 - accuracy: 1.0000 - val_loss: 0.0430 - val_accuracy: 0.9960\n",
            "Epoch 9/10\n",
            "32/32 [==============================] - 0s 5ms/step - loss: 0.0254 - accuracy: 1.0000 - val_loss: 0.0378 - val_accuracy: 0.9960\n",
            "Epoch 10/10\n",
            "32/32 [==============================] - 0s 5ms/step - loss: 0.0208 - accuracy: 1.0000 - val_loss: 0.0337 - val_accuracy: 0.9960\n"
          ]
        }
      ]
    },
    {
      "cell_type": "code",
      "source": [
        "text_data = \"\"\"\n",
        "entara Israel mengatakan pasukannya menembak dan membunuh tiga warganya yang menjadi sandera. Mereka menyebut keliru mengidentifikasi tiga orang itu sebagai ancaman.\n",
        "\"Selama pertempuran di Shejaiya (wilayah medan pertempuran di Kota Gaza), IDF (tentara) secara keliru mengidentifikasi tiga sandera Israel sebagai ancaman. Akibatnya, pasukan menembak ke arah mereka dan mereka terbunuh,\" kata militer dalam sebuah pernyataan, seperti dilansir Kantor Berita AFP, Sabtu (16/12/2023).\n",
        "\n",
        "\"Pelajaran langsung dari peristiwa tersebut telah dipelajari, yang kemudian diteruskan kepada seluruh pasukan IDF di lapangan,\" tambahnya, menyatakan \"penyesalan mendalam atas insiden tragis tersebut\".\n",
        "\"\"\"\n",
        "# Testing for predicting data\n",
        "text_data = text_data.replace('=', '')\n",
        "text_data = re.sub(r'\\[.*?\\]|\\(.*?\\)', '', text_data)\n",
        "text_data = re.sub(r'\\s+', ' ', text_data)\n",
        "\n",
        "text_sequence = tokenizer.texts_to_sequences([text_data])\n",
        "text_sequence_pad = pad_sequences(text_sequence, maxlen=max_length, truncating=trunc_type, padding=padding_type)\n",
        "predict = model.predict(text_sequence_pad)\n",
        "print(predict[0])\n",
        "\n",
        "threshold = 0.4\n",
        "predicted_label = 1 if predict[0] > threshold else 0\n",
        "print(\"Prediction Label:\", predicted_label)"
      ],
      "metadata": {
        "colab": {
          "base_uri": "https://localhost:8080/"
        },
        "id": "Cw151F2VA8AK",
        "outputId": "c8ecd048-23de-40c9-d6ee-2caa49d61916"
      },
      "execution_count": 52,
      "outputs": [
        {
          "output_type": "stream",
          "name": "stdout",
          "text": [
            "1/1 [==============================] - 0s 30ms/step\n",
            "[0.06408751]\n",
            "Prediction Label: 0\n"
          ]
        }
      ]
    },
    {
      "cell_type": "code",
      "source": [
        "import matplotlib.pyplot as plt\n",
        "import seaborn as sns\n",
        "from sklearn.metrics import confusion_matrix, accuracy_score, precision_score, recall_score, f1_score"
      ],
      "metadata": {
        "id": "vxnjsUDNBGIa"
      },
      "execution_count": 35,
      "outputs": []
    },
    {
      "cell_type": "code",
      "source": [
        "predictions = model.predict(validation_padded)\n",
        "threshold = 0.4\n",
        "predicted_labels = (predictions > threshold).astype('int32')\n",
        "\n",
        "accuracy = accuracy_score(validation_labels, predicted_labels)\n",
        "precision = precision_score(validation_labels, predicted_labels)\n",
        "recall = recall_score(validation_labels, predicted_labels)\n",
        "f1 = f1_score(validation_labels, predicted_labels)\n",
        "conf_matrix = confusion_matrix(validation_labels, predicted_labels)\n",
        "\n",
        "# Tampilkan evaluasi dan matriks confusion\n",
        "print(\"Accuracy:\", accuracy)\n",
        "print(\"Precision:\", precision)\n",
        "print(\"Recall:\", recall)\n",
        "print(\"F1 Score:\", f1)\n",
        "print(\"\\nConfusion Matrix:\")\n",
        "print(conf_matrix)"
      ],
      "metadata": {
        "colab": {
          "base_uri": "https://localhost:8080/"
        },
        "id": "Y-LH1BlABaaU",
        "outputId": "e0ad4f43-afdd-48d0-b5ea-fafd7fe8a58d"
      },
      "execution_count": 50,
      "outputs": [
        {
          "output_type": "stream",
          "name": "stdout",
          "text": [
            "8/8 [==============================] - 0s 2ms/step\n",
            "Accuracy: 0.9959839357429718\n",
            "Precision: 1.0\n",
            "Recall: 0.9850746268656716\n",
            "F1 Score: 0.9924812030075187\n",
            "\n",
            "Confusion Matrix:\n",
            "[[182   0]\n",
            " [  1  66]]\n"
          ]
        }
      ]
    },
    {
      "cell_type": "code",
      "source": [
        "conf_matrix = confusion_matrix(validation_labels, predicted_labels)\n",
        "\n",
        "# Buat plot confusion matrix\n",
        "plt.figure(figsize=(8, 6))\n",
        "sns.heatmap(conf_matrix, annot=True, fmt='d', cmap='Blues', cbar=False)\n",
        "plt.xlabel('Predicted Labels')\n",
        "plt.ylabel('True Labels')\n",
        "plt.title('Confusion Matrix')\n",
        "# plt.savefig('Conf Matrix')\n",
        "plt.show()\n"
      ],
      "metadata": {
        "id": "ObnLpH8UBb1b",
        "colab": {
          "base_uri": "https://localhost:8080/",
          "height": 564
        },
        "outputId": "04b28086-fb12-4536-eb5a-82107ce25c8c"
      },
      "execution_count": 57,
      "outputs": [
        {
          "output_type": "display_data",
          "data": {
            "text/plain": [
              "<Figure size 800x600 with 1 Axes>"
            ],
            "image/png": "[encoded data removed]"
          },
          "metadata": {}
        }
      ]
    },
    {
      "cell_type": "markdown",
      "source": [
        "**History Loss and Accuracy per Epochs Plot**"
      ],
      "metadata": {
        "id": "6FdRzpimmq26"
      }
    },
    {
      "cell_type": "code",
      "source": [
        "plt.plot(history.history['loss'], label='Training Loss')\n",
        "plt.plot(history.history['val_loss'], label='Validation Loss')\n",
        "plt.xlabel('Epochs')\n",
        "plt.ylabel('Loss')\n",
        "plt.legend()\n",
        "# plt.savefig('Loss History')\n",
        "plt.show()"
      ],
      "metadata": {
        "colab": {
          "base_uri": "https://localhost:8080/",
          "height": 449
        },
        "id": "KwRcbvhCmqhX",
        "outputId": "32ea7745-2b56-460e-db87-005b768bb6e2"
      },
      "execution_count": 58,
      "outputs": [
        {
          "output_type": "display_data",
          "data": {
            "text/plain": [
              "<Figure size 640x480 with 1 Axes>"
            ],
            "image/png": "[encoded data removed]"
          },
          "metadata": {}
        }
      ]
    },
    {
      "cell_type": "code",
      "source": [
        "plt.plot(history.history['accuracy'], label='Training Accuracy')\n",
        "plt.plot(history.history['val_accuracy'], label='Validation Accuracy')\n",
        "plt.xlabel('Epochs')\n",
        "plt.ylabel('Accuracy')\n",
        "# plt.ylim(0.98,1)\n",
        "plt.legend()\n",
        "# plt.savefig('Acc History')\n",
        "plt.show()"
      ],
      "metadata": {
        "colab": {
          "base_uri": "https://localhost:8080/",
          "height": 449
        },
        "id": "q0XxE7wXmF8l",
        "outputId": "2728cf3a-40e2-41f3-b32c-8ebeceaeab83"
      },
      "execution_count": 59,
      "outputs": [
        {
          "output_type": "display_data",
          "data": {
            "text/plain": [
              "<Figure size 640x480 with 1 Axes>"
            ],
            "image/png": "[encoded data removed]"
          },
          "metadata": {}
        }
      ]
    },
    {
      "cell_type": "markdown",
      "source": [
        "**Model Deployment with TFLite**"
      ],
      "metadata": {
        "id": "z_TbU1PHo-Hk"
      }
    },
    {
      "cell_type": "code",
      "source": [
        "converter = tf.lite.TFLiteConverter.from_keras_model(model)\n",
        "tflite_model = converter.convert()\n",
        "\n",
        "with open('model.tflite', 'wb') as f:\n",
        "    f.write(tflite_model)"
      ],
      "metadata": {
        "id": "MubseD7unOu-"
      },
      "execution_count": 53,
      "outputs": []
    },
    {
      "cell_type": "markdown",
      "source": [
        "**Model Deployment with H5**"
      ],
      "metadata": {
        "id": "W3FD86MqpFVr"
      }
    },
    {
      "cell_type": "code",
      "source": [
        "model.save('model_vericheck.h5')"
      ],
      "metadata": {
        "colab": {
          "base_uri": "https://localhost:8080/"
        },
        "id": "bPbqE7YdpCE5",
        "outputId": "f8ce9b46-c2d5-4870-acc6-5f877f0f574e"
      },
      "execution_count": 55,
      "outputs": [
        {
          "output_type": "stream",
          "name": "stderr",
          "text": [
            "/usr/local/lib/python3.10/dist-packages/keras/src/engine/training.py:3103: UserWarning: You are saving your model as an HDF5 file via `model.save()`. This file format is considered legacy. We recommend using instead the native Keras format, e.g. `model.save('my_model.keras')`.\n",
            "  saving_api.save_model(\n"
          ]
        }
      ]
    },
    {
      "cell_type": "code",
      "source": [],
      "metadata": {
        "id": "AkEkBEUipMDR"
      },
      "execution_count": null,
      "outputs": []
    }
  ]
}